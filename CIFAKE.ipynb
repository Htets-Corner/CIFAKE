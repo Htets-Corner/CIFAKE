{
  "nbformat": 4,
  "nbformat_minor": 0,
  "metadata": {
    "colab": {
      "provenance": [],
      "authorship_tag": "ABX9TyO0LKv0If8aHxPk7ShTcoNj",
      "include_colab_link": true
    },
    "kernelspec": {
      "name": "python3",
      "display_name": "Python 3"
    },
    "language_info": {
      "name": "python"
    }
  },
  "cells": [
    {
      "cell_type": "markdown",
      "metadata": {
        "id": "view-in-github",
        "colab_type": "text"
      },
      "source": [
        "<a href=\"https://colab.research.google.com/github/Htets-Corner/CIFAKE/blob/main/CIFAKE.ipynb\" target=\"_parent\"><img src=\"https://colab.research.google.com/assets/colab-badge.svg\" alt=\"Open In Colab\"/></a>"
      ]
    },
    {
      "cell_type": "code",
      "source": [
        "import kagglehub\n",
        "\n",
        "# Download latest version\n",
        "path = kagglehub.dataset_download(\"birdy654/cifake-real-and-ai-generated-synthetic-images\")\n",
        "\n",
        "print(\"Path to dataset files:\", path)\n"
      ],
      "metadata": {
        "id": "nFYOJuMcFmA8",
        "outputId": "f047d3b4-5de1-4b4f-d4bd-8cd1c6297667",
        "colab": {
          "base_uri": "https://localhost:8080/"
        }
      },
      "execution_count": 19,
      "outputs": [
        {
          "output_type": "stream",
          "name": "stdout",
          "text": [
            "Using Colab cache for faster access to the 'cifake-real-and-ai-generated-synthetic-images' dataset.\n",
            "Path to dataset files: /kaggle/input/cifake-real-and-ai-generated-synthetic-images\n"
          ]
        }
      ]
    },
    {
      "cell_type": "code",
      "source": [
        "import os\n",
        "\n",
        "print(\"Dataset is stored at:\", path)\n",
        "print(\"Files:\", os.listdir(path))\n"
      ],
      "metadata": {
        "id": "Js7ZAWrLFq-1",
        "outputId": "2851eb75-8c3a-46a1-fe95-078fe73fd967",
        "colab": {
          "base_uri": "https://localhost:8080/"
        }
      },
      "execution_count": 20,
      "outputs": [
        {
          "output_type": "stream",
          "name": "stdout",
          "text": [
            "Dataset is stored at: /kaggle/input/cifake-real-and-ai-generated-synthetic-images\n",
            "Files: ['test', 'train']\n"
          ]
        }
      ]
    },
    {
      "cell_type": "code",
      "source": [
        "from torchvision import datasets, transforms\n",
        "from torch.utils.data import DataLoader\n",
        "\n",
        "transform = transforms.Compose([\n",
        "    transforms.Resize((32, 32)),\n",
        "    transforms.ToTensor(),\n",
        "    transforms.Normalize((0.5,), (0.5,))\n",
        "])\n",
        "\n",
        "train_data = datasets.ImageFolder(root=os.path.join(path, \"train\"), transform=transform)\n",
        "test_data = datasets.ImageFolder(root=os.path.join(path, \"test\"), transform=transform)\n",
        "\n",
        "train_loader = DataLoader(train_data, batch_size=64, shuffle=True)\n",
        "test_loader = DataLoader(test_data, batch_size=64, shuffle=False)\n",
        "\n",
        "print(\"Train size:\", len(train_data))\n",
        "print(\"Test size:\", len(test_data))\n",
        "print(\"Classes:\", train_data.classes)\n"
      ],
      "metadata": {
        "id": "7F6mU6HwGSFK",
        "outputId": "e4d9a637-9a1e-42fe-d3ed-7e85526db1cb",
        "colab": {
          "base_uri": "https://localhost:8080/"
        }
      },
      "execution_count": 21,
      "outputs": [
        {
          "output_type": "stream",
          "name": "stdout",
          "text": [
            "Train size: 100000\n",
            "Test size: 20000\n",
            "Classes: ['FAKE', 'REAL']\n"
          ]
        }
      ]
    },
    {
      "cell_type": "code",
      "source": [
        "import torch.nn as nn\n",
        "import torch.nn.functional as F\n",
        "\n",
        "class CNNClassifier(nn.Module):\n",
        "    def __init__(self):\n",
        "        super(CNNClassifier, self).__init__()\n",
        "        self.conv1 = nn.Conv2d(3, 32, 3, padding=1)   # (3,32,32) → (32,32,32)\n",
        "        self.conv2 = nn.Conv2d(32, 64, 3, padding=1)  # (32,32,32) → (64,32,32)\n",
        "        self.pool = nn.MaxPool2d(2, 2)                # halves H,W\n",
        "        self.fc1 = nn.Linear(64*8*8, 128)             # after 2 pools → 8x8\n",
        "        self.fc2 = nn.Linear(128, 2)                  # 2 classes (FAKE, REAL)\n",
        "\n",
        "    def forward(self, x):\n",
        "        x = self.pool(F.relu(self.conv1(x)))   # (32,32,32) → (32,16,16)\n",
        "        x = self.pool(F.relu(self.conv2(x)))   # (64,16,16) → (64,8,8)\n",
        "        x = x.view(-1, 64*8*8)                 # flatten\n",
        "        x = F.relu(self.fc1(x))\n",
        "        x = self.fc2(x)\n",
        "        return x\n"
      ],
      "metadata": {
        "id": "f0AiAh2DHefb"
      },
      "execution_count": 22,
      "outputs": []
    },
    {
      "cell_type": "code",
      "source": [
        "import os\n",
        "import torch\n",
        "from torchvision import datasets, transforms\n",
        "from torch.utils.data import DataLoader\n",
        "import torch.optim as optim\n",
        "import time\n",
        "start_time = time.time()\n",
        "\n",
        "device = torch.device(\"cuda\" if torch.cuda.is_available() else \"cpu\")\n",
        "model = CNNClassifier().to(device)\n",
        "criterion = nn.CrossEntropyLoss()\n",
        "optimizer = optim.Adam(model.parameters(), lr=0.001)\n",
        "\n",
        "# Tracking lists\n",
        "train_losses = []\n",
        "test_losses = []\n",
        "train_correct = []\n",
        "test_correct = []\n",
        "\n",
        "epochs = 10\n",
        "for epoch in range(epochs):\n",
        "    ########################\n",
        "    # Training Phase\n",
        "    ########################\n",
        "    model.train()\n",
        "    running_loss = 0.0\n",
        "    correct, total = 0, 0\n",
        "\n",
        "    for images, labels in train_loader:\n",
        "        images, labels = images.to(device), labels.to(device)\n",
        "\n",
        "        optimizer.zero_grad()\n",
        "        outputs = model(images)\n",
        "        loss = criterion(outputs, labels)\n",
        "        loss.backward()\n",
        "        optimizer.step()\n",
        "\n",
        "        # Track loss\n",
        "        running_loss += loss.item()\n",
        "\n",
        "        # Track accuracy\n",
        "        _, predicted = torch.max(outputs, 1)\n",
        "        total += labels.size(0)\n",
        "        correct += (predicted == labels).sum().item()\n",
        "\n",
        "    epoch_train_loss = running_loss / len(train_loader)\n",
        "    epoch_train_acc = 100 * correct / total\n",
        "\n",
        "    train_losses.append(epoch_train_loss)\n",
        "    train_correct.append(epoch_train_acc)\n",
        "\n",
        "    ########################\n",
        "    # Testing Phase\n",
        "    ########################\n",
        "    model.eval()\n",
        "    test_running_loss = 0.0\n",
        "    test_correct_count, test_total = 0, 0\n",
        "\n",
        "    with torch.no_grad():\n",
        "        for images, labels in test_loader:\n",
        "            images, labels = images.to(device), labels.to(device)\n",
        "            outputs = model(images)\n",
        "            loss = criterion(outputs, labels)\n",
        "\n",
        "            # Track loss\n",
        "            test_running_loss += loss.item()\n",
        "\n",
        "            # Track accuracy\n",
        "            _, predicted = torch.max(outputs, 1)\n",
        "            test_total += labels.size(0)\n",
        "            test_correct_count += (predicted == labels).sum().item()\n",
        "\n",
        "    epoch_test_loss = test_running_loss / len(test_loader)\n",
        "    epoch_test_acc = 100 * test_correct_count / test_total\n",
        "\n",
        "    test_losses.append(epoch_test_loss)\n",
        "    test_correct.append(epoch_test_acc)\n",
        "\n",
        "    ########################\n",
        "    # Epoch Summary\n",
        "    ########################\n",
        "    print(f\"Epoch {epoch+1}/{epochs} \"\n",
        "          f\"Train Loss: {epoch_train_loss:.4f}, Train Acc: {epoch_train_acc:.2f}% | \"\n",
        "          f\"Test Loss: {epoch_test_loss:.4f}, Test Acc: {epoch_test_acc:.2f}%\")\n",
        "\n",
        "current_time = time.time()\n",
        "total = current_time - start_time\n",
        "print(f'Training Took: {total/60} minutes!')"
      ],
      "metadata": {
        "id": "9vlPZU1jH_s6"
      },
      "execution_count": null,
      "outputs": []
    },
    {
      "cell_type": "code",
      "source": [],
      "metadata": {
        "id": "rskTvacIKDHW"
      },
      "execution_count": null,
      "outputs": []
    }
  ]
}